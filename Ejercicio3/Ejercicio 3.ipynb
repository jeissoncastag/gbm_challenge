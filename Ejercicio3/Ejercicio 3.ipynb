{
 "cells": [
  {
   "cell_type": "code",
   "execution_count": 1,
   "metadata": {},
   "outputs": [
    {
     "name": "stdout",
     "output_type": "stream",
     "text": [
      "1\n",
      "3\n",
      "2\n",
      "5\n",
      "4\n"
     ]
    }
   ],
   "source": [
    "#Define la función de saltos mínimos\n",
    "def saltos_minimos(n, casos):\n",
    "    resultados = []\n",
    "    for x in casos:\n",
    "        saltos = 0\n",
    "        posicion = 0\n",
    "        while posicion != x:\n",
    "            if posicion < x:\n",
    "                posicion += saltos + 1\n",
    "            else:\n",
    "                posicion -= 1\n",
    "            saltos += 1\n",
    "        resultados.append(saltos)\n",
    "    return resultados\n",
    "\n",
    "#Ejemplo\n",
    "#n es el número de casos a evaluar\n",
    "n = 5\n",
    "#casos es la serie de números para generar los saltos\n",
    "casos = [1, 2, 3, 4, 5]\n",
    "resultados = saltos_minimos(n, casos)\n",
    "for resultado in resultados: print(resultado)"
   ]
  }
 ],
 "metadata": {
  "kernelspec": {
   "display_name": "Python 3",
   "language": "python",
   "name": "python3"
  },
  "language_info": {
   "codemirror_mode": {
    "name": "ipython",
    "version": 3
   },
   "file_extension": ".py",
   "mimetype": "text/x-python",
   "name": "python",
   "nbconvert_exporter": "python",
   "pygments_lexer": "ipython3",
   "version": "3.10.12"
  }
 },
 "nbformat": 4,
 "nbformat_minor": 2
}
