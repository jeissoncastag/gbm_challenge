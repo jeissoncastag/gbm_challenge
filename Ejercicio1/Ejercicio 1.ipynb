{
 "cells": [
  {
   "cell_type": "code",
   "execution_count": 3,
   "metadata": {},
   "outputs": [
    {
     "name": "stdout",
     "output_type": "stream",
     "text": [
      "ana es un palíndromo\n"
     ]
    }
   ],
   "source": [
    "def valida_palindromo(texto):\n",
    "    texto = texto.lower().replace(\" \", \"\")\n",
    "    if texto == texto[::-1]: print(f\"{texto} es un palíndromo\")\n",
    "    else: print(f\"{texto} no es un palíndromo\")\n",
    "    \n",
    "valida_palindromo('ANA')"
   ]
  }
 ],
 "metadata": {
  "kernelspec": {
   "display_name": "Python 3",
   "language": "python",
   "name": "python3"
  },
  "language_info": {
   "codemirror_mode": {
    "name": "ipython",
    "version": 3
   },
   "file_extension": ".py",
   "mimetype": "text/x-python",
   "name": "python",
   "nbconvert_exporter": "python",
   "pygments_lexer": "ipython3",
   "version": "3.10.12"
  }
 },
 "nbformat": 4,
 "nbformat_minor": 2
}
